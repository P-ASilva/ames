{
 "cells": [
  {
   "attachments": {},
   "cell_type": "markdown",
   "metadata": {},
   "source": [
    "# Building a regression model for predicting house sale prices\n",
    "Lasso variartion"
   ]
  },
  {
   "cell_type": "code",
   "execution_count": null,
   "metadata": {},
   "outputs": [],
   "source": [
    "import pickle\n",
    "import pathlib\n",
    "\n",
    "import numpy as np\n",
    "import pandas as pd"
   ]
  },
  {
   "cell_type": "code",
   "execution_count": null,
   "metadata": {},
   "outputs": [],
   "source": [
    "DATA_DIR = pathlib.Path.cwd().parent / 'data'\n",
    "print(DATA_DIR)"
   ]
  },
  {
   "cell_type": "code",
   "execution_count": null,
   "metadata": {},
   "outputs": [],
   "source": [
    "clean_data_path = DATA_DIR / 'processed' / 'ames_clean.pkl'"
   ]
  },
  {
   "cell_type": "code",
   "execution_count": null,
   "metadata": {},
   "outputs": [],
   "source": [
    "with open(clean_data_path, 'rb') as file:\n",
    "    data = pickle.load(file)"
   ]
  },
  {
   "cell_type": "code",
   "execution_count": null,
   "metadata": {},
   "outputs": [],
   "source": [
    "data.info()"
   ]
  },
  {
   "cell_type": "code",
   "execution_count": null,
   "metadata": {},
   "outputs": [],
   "source": [
    "model_data = data.copy()"
   ]
  },
  {
   "attachments": {},
   "cell_type": "markdown",
   "metadata": {},
   "source": [
    "## Preparing the data for the model"
   ]
  },
  {
   "attachments": {},
   "cell_type": "markdown",
   "metadata": {},
   "source": [
    "Now that we have the data all cleaned, and all the missing values accounted for, lets focus on transforming the data for the model.\n",
    "\n",
    "Lets remember what a model is. \n",
    "\n",
    "- A predictive model is a **set** of functions that receive data as input and produce a prediction, that is, an estimate of the target value as output.\n",
    "- **Train** a model is to search the set of candidate functions for one that adequately represents the **training dataset**.\n",
    "- The adequacy of a candidate function to the training data is usually determined by a **loss function** that measures how well the predictions of the function match the real values of the target within the training dataset. It is common to define a *loss function per data item* (e.g. absolute error, quadratic error, etc) and to construct the *loss function over the dataset* as the *average prediction loss*.\n",
    "\n",
    "Many models are **parametric models**. In this case, each function of the set of functions that makes the model is constructed from a vector of **parameters** that define the function, forming a **parametric function**. For instance: the linear model constructs prediction values out of a linear combination of the input features, plus a constant. The weights of the linear combination plus the constant are the parameters of the model. The set of functions that can be represented by this model is given by all possible values of the vector of parameters that define the function.\n",
    "\n",
    "Some models are called **non-parametric models**. These models usually do not have a parametric form (like the linear model). But the terminology is a bit misleading, though: usually these models *do* have parameters, and potentially an open-ended set of them! For instance, consider the \"decision tree\" model, which is one of the most prominent models of this category. The decision tree may not have a formula for the predicted value, but it does have parameters, many of them: each decision in the tree involves a choice of feature and a threshold level, and those choices must be stored as parameters of the model for use in future predictions.\n",
    "\n",
    "Each model has specific requirements for the format of the input data. Most of the time, the minimum requirement is that:\n",
    "\n",
    "- All columns are numeric;\n",
    "- There are no missing values.\n",
    "\n",
    "Some models have extra requirements. For example: the support-vector-machines model requires that the input features have comparable standard deviations - having features that have large discrepancies between features in terms of their order of magnitude (such as a feature in the fractions of unit range and another in the tens of thousands) will result in poor prediction quality.\n",
    "\n",
    "And some models may not have any special requirement at all. We will study each of those in detail in this course.\n",
    "\n",
    "Lets start our study with a simple model: the *multivariate linear regression* model. This is a model that presents the minimum requirements listed above. So we need to do a bit of processing on the original features:\n",
    "\n",
    "- *Numerical features* stay as given;\n",
    "- *Categorical features* have to be transformed into numerical features. In order to do so we need to **encode** these features, that is: to transform them into new features that convey the same information, but in a numerical form, and in a way that \"makes sense\" - we'll see it below.\n",
    "- *Ordinal features* can be transformed into numerical features in the same way as the caegorical features, or could be assigned increasing numbers in conformity with the ordered nature of the categories of the feature."
   ]
  },
  {
   "attachments": {},
   "cell_type": "markdown",
   "metadata": {},
   "source": [
    "## Encoding categorical variables"
   ]
  },
  {
   "attachments": {},
   "cell_type": "markdown",
   "metadata": {},
   "source": [
    "Lets identify all categorical variables - both nominal (that is, categoricals without category order) and ordinal."
   ]
  },
  {
   "cell_type": "code",
   "execution_count": null,
   "metadata": {},
   "outputs": [],
   "source": [
    "categorical_columns = []\n",
    "ordinal_columns = []\n",
    "for col in model_data.select_dtypes('category').columns:\n",
    "    if model_data[col].cat.ordered:\n",
    "        ordinal_columns.append(col)\n",
    "    else:\n",
    "        categorical_columns.append(col)"
   ]
  },
  {
   "cell_type": "code",
   "execution_count": null,
   "metadata": {},
   "outputs": [],
   "source": [
    "ordinal_columns"
   ]
  },
  {
   "cell_type": "code",
   "execution_count": null,
   "metadata": {},
   "outputs": [],
   "source": [
    "categorical_columns"
   ]
  },
  {
   "attachments": {},
   "cell_type": "markdown",
   "metadata": {},
   "source": [
    "### Encoding ordinal variables "
   ]
  },
  {
   "attachments": {},
   "cell_type": "markdown",
   "metadata": {},
   "source": [
    "Ordinal variables can be transformed into integer numbers in a straightforward manner: the lowest category is assigned the value \"zero\", the next category is given the value \"one\", etc. The `Pandas` library has a function for this task: `factorize()`:"
   ]
  },
  {
   "cell_type": "code",
   "execution_count": null,
   "metadata": {},
   "outputs": [],
   "source": [
    "for col in ordinal_columns:\n",
    "    codes, _ = pd.factorize(data[col], sort=True)\n",
    "    model_data[col] = codes"
   ]
  },
  {
   "attachments": {},
   "cell_type": "markdown",
   "metadata": {},
   "source": [
    "Lets confirm that the variables are no longer ordinal, but now are integers:"
   ]
  },
  {
   "cell_type": "code",
   "execution_count": null,
   "metadata": {},
   "outputs": [],
   "source": [
    "model_data[ordinal_columns].info()"
   ]
  },
  {
   "attachments": {},
   "cell_type": "markdown",
   "metadata": {},
   "source": [
    "Compare the original values with the encoded values:"
   ]
  },
  {
   "cell_type": "code",
   "execution_count": null,
   "metadata": {},
   "outputs": [],
   "source": [
    "data['Lot.Shape'].value_counts()"
   ]
  },
  {
   "cell_type": "code",
   "execution_count": null,
   "metadata": {},
   "outputs": [],
   "source": [
    "model_data['Lot.Shape'].value_counts()"
   ]
  },
  {
   "attachments": {},
   "cell_type": "markdown",
   "metadata": {},
   "source": [
    "### Encoding nominal variables"
   ]
  },
  {
   "attachments": {},
   "cell_type": "markdown",
   "metadata": {},
   "source": [
    "With nominal variables there is no notion of order among categories. Therefore, it would be a conceptual mistake to encode them in the same manner as the ordinal variables. For instance, consider the `Exterior` variable:"
   ]
  },
  {
   "cell_type": "code",
   "execution_count": null,
   "metadata": {},
   "outputs": [],
   "source": [
    "model_data['Exterior'].value_counts()"
   ]
  },
  {
   "attachments": {},
   "cell_type": "markdown",
   "metadata": {},
   "source": [
    "We cannot assign an order here, lest we end up with equations like `HdBoard` + `Plywood` = `CemntBd`, which are nonsense. \n",
    "\n",
    "The strategy here to encode `Exterior` is to create several new numerical variables to represent the membership of a given data item to one of the `Exterior` categories. These are called **dummy variables**. Each of these new variables contain only the values \"zero\" or \"one\" (i.e. they are binary variables), where $1$ denotes that the data item belongs to the category represented by the variable. Evidently, for a given data item, only one dummy variable has a value of $1$, all remaining are $0$.\n",
    "\n",
    "There are two types of dummy variable encoding:\n",
    "\n",
    "- \"One-hot\" encoding: in this case we create one dummy variable per category. Let's look at the `Exterior` feature as an example. The `Pandas` function `get_dummies()` can do the encoding for us:"
   ]
  },
  {
   "cell_type": "code",
   "execution_count": null,
   "metadata": {},
   "outputs": [],
   "source": [
    "original_data = model_data['Exterior']\n",
    "encoded_data = pd.get_dummies(original_data)\n",
    "\n",
    "aux_dataframe = encoded_data\n",
    "aux_dataframe['Exterior'] = original_data.copy()\n",
    "\n",
    "aux_dataframe.head().transpose()"
   ]
  },
  {
   "attachments": {},
   "cell_type": "markdown",
   "metadata": {},
   "source": [
    "Observe that for each value of `Exterior`, only the corresponding dummy is flagged.\n",
    "\n",
    "One-hot encoding is a popular technique in Machine Learning. Statisticians, however, prefer a slightly different way of dummy encoding which is:\n",
    "\n",
    "- Choose a category to *not encode* (this is called the *base category*)\n",
    "- Generate dummies for the remaining categories. That is:\n",
    "    - If the data item belongs to the base category, no dummy receives a value of $1$;\n",
    "    - Otherwise, set the corresponding dummy to $1$.\n",
    "\n",
    "The same `get_dummies()` function of `Pandas` can do this automatically with the `drop_first` argument:"
   ]
  },
  {
   "cell_type": "code",
   "execution_count": null,
   "metadata": {},
   "outputs": [],
   "source": [
    "original_data = model_data['Exterior']\n",
    "encoded_data = pd.get_dummies(original_data, drop_first=True)\n",
    "\n",
    "aux_dataframe = encoded_data\n",
    "aux_dataframe['Exterior'] = original_data.copy()\n",
    "\n",
    "aux_dataframe.head().transpose()"
   ]
  },
  {
   "attachments": {},
   "cell_type": "markdown",
   "metadata": {},
   "source": [
    "Notice that we are now missing the dummy variable for the `AsbShng` category.\n",
    "\n",
    "Why to encode things this way? If we don't drop one of the dummies, then it will always be the case that the sum of the values of the dummies is $1$ (since each data item must belong to one of the categories). The linear model, particularly very popular with the statisticians, implies the existence of a fictitious feature containing, for all data items, the value $1$. Hence we end up having a set of variables where a linear combination of them (in this case, the sum of the dummies) matches the value at another variable. This has numerical computing implications for the linear model, that we will discuss in class.\n",
    "\n",
    "Since we want to use the linear model in this notebook, lets encode all categoricals with the `drop_first` alternative."
   ]
  },
  {
   "cell_type": "code",
   "execution_count": null,
   "metadata": {},
   "outputs": [],
   "source": [
    "model_data = pd.get_dummies(model_data, drop_first=True)"
   ]
  },
  {
   "attachments": {},
   "cell_type": "markdown",
   "metadata": {},
   "source": [
    "Now our dataset has a lot more variables!"
   ]
  },
  {
   "cell_type": "code",
   "execution_count": null,
   "metadata": {},
   "outputs": [],
   "source": [
    "model_data.info()"
   ]
  },
  {
   "cell_type": "code",
   "execution_count": null,
   "metadata": {},
   "outputs": [],
   "source": [
    "for cat in categorical_columns:\n",
    "    dummies = []\n",
    "    for col in model_data.columns:\n",
    "        if col.startswith(cat + \"_\"):\n",
    "            dummies.append(f'\"{col}\"')\n",
    "    dummies_str = ', '.join(dummies)\n",
    "    print(f'From column \"{cat}\" we made {dummies_str}\\n')"
   ]
  },
  {
   "attachments": {},
   "cell_type": "markdown",
   "metadata": {},
   "source": [
    "## Train-test splitting"
   ]
  },
  {
   "attachments": {},
   "cell_type": "markdown",
   "metadata": {},
   "source": [
    "The data will now be organized as follows:\n",
    "\n",
    "- The features form a matrix $X$ of size $m \\times n$, where $m$ is the number of data items, and $n$ is the number of features.\n",
    "- The target forms a column-matrix $y$ of length $m$."
   ]
  },
  {
   "cell_type": "code",
   "execution_count": null,
   "metadata": {},
   "outputs": [],
   "source": [
    "X = model_data.drop(columns=['SalePrice']).copy()\n",
    "y = model_data['SalePrice'].copy()"
   ]
  },
  {
   "cell_type": "code",
   "execution_count": null,
   "metadata": {},
   "outputs": [],
   "source": [
    "X.values, y.values"
   ]
  },
  {
   "attachments": {},
   "cell_type": "markdown",
   "metadata": {},
   "source": [
    "This is the typical set-up of a machine learning project. Now we want to train our model *and* verify that the model provides good predictions for *unseen* data items. Why the emphasis on \"unseen\"? Because there is no use for a model that only gives predictions for the items in the data used to train it - we want our models to *generalize*.\n",
    "\n",
    "The way to assess the model's performance for unseen values is to split the dataset into two subsets: the **training** and **test** datasets.\n",
    "\n",
    "We have been using a lot of `Pandas` to manipulate our data so far. From now on we will switch to another very popular library for machine learning in Python: `Scikit-Learn`.\n",
    "\n",
    "The function `train_test_split()` will take as arguments the dataset to be split, the specification of the fraction of the dataset to be reserved for testing, and a random seed value - so that the split will always be the same whenever we run our notebook. This is a customary measure to ensure reproducibility of the notebook."
   ]
  },
  {
   "cell_type": "code",
   "execution_count": null,
   "metadata": {},
   "outputs": [],
   "source": [
    "from sklearn.model_selection import train_test_split"
   ]
  },
  {
   "cell_type": "code",
   "execution_count": null,
   "metadata": {},
   "outputs": [],
   "source": [
    "RANDOM_SEED = 42  # Any number here, really."
   ]
  },
  {
   "cell_type": "code",
   "execution_count": null,
   "metadata": {},
   "outputs": [],
   "source": [
    "Xtrain, Xtest, ytrain, ytest = train_test_split(\n",
    "    X,\n",
    "    y,\n",
    "    test_size=0.25,\n",
    "    random_state=RANDOM_SEED,\n",
    ")\n"
   ]
  },
  {
   "cell_type": "code",
   "execution_count": null,
   "metadata": {},
   "outputs": [],
   "source": [
    "X.shape, Xtrain.shape, Xtest.shape"
   ]
  },
  {
   "cell_type": "code",
   "execution_count": null,
   "metadata": {},
   "outputs": [],
   "source": [
    "y.shape, ytrain.shape, ytest.shape"
   ]
  },
  {
   "attachments": {},
   "cell_type": "markdown",
   "metadata": {},
   "source": [
    "## Fitting a linear model"
   ]
  },
  {
   "attachments": {},
   "cell_type": "markdown",
   "metadata": {},
   "source": [
    "Lets start with fitting a linear model for regression. The linear model is one of the oldest and most used models for regression, due to its simplicity and strong statistical roots. A proper statistical approach to the understanding of the linear model consists of:\n",
    "\n",
    "- Understanding the statistical premises of the linear model;\n",
    "- Analyzing the features to verify that the preliminary conditions of this modeling strategy are satisfied;\n",
    "- Fitting the model;\n",
    "- Analyzing the residuals to confirm that the post-fit conditions are satisfied.\n",
    "\n",
    "Lets discuss these topics in more detail:"
   ]
  },
  {
   "attachments": {},
   "cell_type": "markdown",
   "metadata": {},
   "source": [
    "### The statistical approach to the linear model"
   ]
  },
  {
   "attachments": {},
   "cell_type": "markdown",
   "metadata": {},
   "source": [
    "In machine learning we are more interested in the predictive capability of a model, rather than its inductive use to analyze the relation between features and target (or independent and dependent variables, in the statistical terminology). But even to a machine learning practitioner, understanding the statistical basis of the linear model may lead to better predictive performance. For instance:\n",
    "\n",
    "- Having a symmetrical residual is usually associated with better mean-squared-error (MSE) than having a long-tailed assymmetric residual;\n",
    "- Non-significant parameters (in a hypothesis-testing sense) may indicate superfluous variables in the model, which could be associated with reduced performance in the test dataset (i.e. poor generalization).\n",
    "\n",
    "So what is the linear model in statistics? A statistical model is a way to describe probabilistically the relation between features and targets, usually in a parametric way.\n",
    "\n",
    "Mathematically, we are searching for a *conditional probability* density model of the form $f(Y = y | \\mathbf{x}, \\theta)$ where $\\mathbf{x}$ is the feature vector, $Y$ is the random variable associated with the target, and $\\theta$ is the vector of parameters. In plain language, we would like to describe the probability distribution of the target variable when the value of the feature vector is known and the parameters of the model are given.\n",
    "\n",
    "In the linear model, we postulate that the data $y$ is generated from the feature vector $\\mathbf{x}$ plus a random Gaussian noise of fixed standard deviation, as shown in the equation below:\n",
    "\n",
    "$$\n",
    "y = \\theta_0 + \\theta_1 x_1 + \\theta_2 x_2 + \\cdots + \\theta_n x_n + \\varepsilon\n",
    "$$\n",
    "\n",
    "where $\\varepsilon \\sim N(0, \\sigma)$\n",
    "\n",
    "The addition of the noise term causes the $y$ value to become a random variable itself, thus making the probabilistic model mentioned above. For a given value of $\\mathbf{x}$, the value of $y$ is obtained by adding the constant value $\\theta_0 + \\theta_1 x_1 + \\theta_2 x_2 + \\cdots + \\theta_n x_n$ to a normal random variable $\\varepsilon$. Remember that, for normal random variables, adding a constant keeps the variable normal, with a shifted mean-value parameter. Therefore:\n",
    "\n",
    "$$\n",
    "Y \\sim N(\\mu = (\\theta_0 + \\theta_1 x_1 + \\theta_2 x_2 + \\cdots + \\theta_n x_n), \\sigma)\n",
    "$$\n",
    "\n",
    "Lets write\n",
    "\n",
    "$$\n",
    "\\hat{y} = \\theta_0 + \\theta_1 x_1 + \\theta_2 x_2 + \\cdots + \\theta_n x_n\n",
    "$$\n",
    "\n",
    "for simplicity, then the model above is rewritten as:\n",
    "\n",
    "$$\n",
    "Y \\sim N(\\mu = \\hat{y}, \\sigma)\n",
    "$$\n",
    "\n",
    "When we have a dataset $D = \\{(\\mathbf{x}_1, y_1), (\\mathbf{x}_2, y_2), \\cdots, (\\mathbf{x}_m, y_m)\\}$ of several $(\\mathbf{x}, y)$ pairs, what is their joint conditional probability density function $f(y_1, y_2, \\cdots, y_m | x_1, x_2, \\cdots, x_n, \\theta)$?\n",
    "\n",
    "We will make another supposition of the linear model: that the $(\\mathbf{x}, y)$ examples were obtained independently, and that the value of one does not impact the probability of the other. Therefore:\n",
    "\n",
    "$$\n",
    "f(y_1, y_2, \\cdots, y_m | x_1, x_2, \\cdots, x_n, \\theta) = f(y_1| x_1, \\theta) f(y_2| x_2, \\theta) \\cdots f(y_m| x_m, \\theta) \n",
    "$$\n",
    "\n",
    "Remember that the normal probability density function is as follows:\n",
    "\n",
    "$$\n",
    "Y \\sim N(\\mu, \\sigma) \\Rightarrow f(y) = \\frac{1}{\\sigma \\sqrt{2 \\pi}} \\exp \\left(-\\frac{1}{2}\\frac{(y - \\mu)^2}{\\sigma^2} \\right)\n",
    "$$\n",
    "\n",
    "Thus:\n",
    "\n",
    "$$\n",
    "Y \\sim N(\\mu = \\hat{y}, \\sigma) \\Rightarrow f(y) = \\frac{1}{\\sigma \\sqrt{2 \\pi}} \\exp \\left(-\\frac{1}{2}\\frac{(y - \\hat{y})^2}{\\sigma^2} \\right)\n",
    "$$\n",
    "\n",
    "And the joint conditional probability density function of the entire dataset becomes:\n",
    "\n",
    "\n",
    "$$\n",
    "f(y_1, y_2, \\cdots, y_m | x_1, x_2, \\cdots, x_n, \\theta) = \\prod_{i=1}^{m} \\left(\\frac{1}{\\sigma \\sqrt{2 \\pi}} \\exp \\left(-\\frac{1}{2}\\frac{(y_i - \\hat{y_i})^2}{\\sigma^2} \\right) \\right)\n",
    "$$\n",
    "\n",
    "Expanding the product we have:\n",
    "\n",
    "$$\n",
    "\\begin{align*}\n",
    "f(y_1, y_2, \\cdots, y_m | x_1, x_2, \\cdots, x_n, \\theta) & = & \\prod_{i=1}^{m} \\left(\\frac{1}{\\sigma \\sqrt{2 \\pi}} \\exp \\left(-\\frac{1}{2}\\frac{(y_i - \\hat{y_i})^2}{\\sigma^2} \\right) \\right) \\\\\n",
    "& = & \\prod_{i=1}^{m} \\left(\\frac{1}{\\sigma \\sqrt{2 \\pi}} \\right) \\prod_{i=1}^{m} \\left( \\exp \\left(-\\frac{1}{2}\\frac{(y_i - \\hat{y_i})^2}{\\sigma^2} \\right) \\right) \\\\\n",
    "& = & \\left(\\frac{1}{\\sigma \\sqrt{2 \\pi}} \\right)^{m} \\exp \\left(\\sum_{i=1}^{m} \\left(-\\frac{1}{2}\\frac{(y_i - \\hat{y_i})^2}{\\sigma^2} \\right) \\right) \\\\\n",
    "& = & \\left(\\frac{1}{\\sigma \\sqrt{2 \\pi}} \\right)^{m} \\exp \\left(- \\frac{1}{2 \\sigma} \\sum_{i=1}^{m} (y_i - \\hat{y_i})^2 \\right)\n",
    "\\end{align*}\n",
    "$$\n",
    "\n",
    "What are the \"best\" value for the parameters of the linear model? We can search for the parameters that maximize the joint conditional probability density function of the dataset. This function is called the *likelihood* of the parameters, and therefore our solution here is called a *\"maximum likelihood estimate\"* of the parameters.\n",
    "\n",
    "So we are looking for a value $\\theta^{\\star}$ of $\\theta$ to maximize $f(y_1, y_2, \\cdots, y_m | x_1, x_2, \\cdots, x_n, \\theta)$, that is:\n",
    "\n",
    "$$\n",
    "\\begin{align*}\n",
    "\\theta^{\\star} & = & \\argmax_{\\theta} \\left\\{ f(y_1, y_2, \\cdots, y_m | x_1, x_2, \\cdots, x_n, \\theta) \\right\\}\\\\\n",
    "& = & \\argmax_{\\theta} \\left\\{ \\left(\\frac{1}{\\sigma \\sqrt{2 \\pi}} \\right)^{m} \\exp \\left(- \\frac{1}{2 \\sigma} \\sum_{i=1}^{m} (y_i - \\hat{y_i})^2 \\right) \\right\\} \\\\\n",
    "& = & \\argmax_{\\theta} \\left\\{ \\exp \\left(- \\frac{1}{2 \\sigma} \\sum_{i=1}^{m} (y_i - \\hat{y_i})^2 \\right) \\right\\} \\\\\n",
    "& = & \\argmax_{\\theta} \\left\\{ - \\frac{1}{2 \\sigma} \\sum_{i=1}^{m} (y_i - \\hat{y_i})^2 \\right\\} \\\\\n",
    "& = & \\argmin_{\\theta} \\left\\{ \\frac{1}{2 \\sigma} \\sum_{i=1}^{m} (y_i - \\hat{y_i})^2 \\right\\} \\\\\n",
    "& = & \\argmin_{\\theta} \\left\\{ \\sum_{i=1}^{m} (y_i - \\hat{y_i})^2 \\right\\} \\\\\n",
    "& = & \\argmin_{\\theta} \\left\\{ \\frac{1}{m} \\sum_{i=1}^{m} (y_i - \\hat{y_i})^2 \\right\\} \\\\\n",
    "\\end{align*}\n",
    "$$\n",
    "\n",
    "Hey, look who we found! Our old friend MSE (mean-squared-error)!\n",
    "\n",
    "So, in the end, here are the lessons:\n",
    "\n",
    "- The statistical formulation of the linear model leads to the same error formulation of machine learning, which only cares for the prediction quality.\n",
    "- The statistical linear model has several assumptions:\n",
    "    - The samples are independent;\n",
    "    - The target is *truly* generated from the linear predictive formula plus a normally-distributed error;\n",
    "    - The error has zero mean and constant standard deviation (the *homoscedasticity* hypothesis);\n",
    "    - There is no error in the feature measurement. That is, $\\mathbf{x}_{i}$ are constants, not random variables. All the error is in the target;\n",
    "- If the assumptions of the linear model are satisfied, you can analyze the parameters with greater sophistication (the machine learning formulation does not bring this finesse). For instance, you can run hypothesis tests on the values of the parameters to determine whether they refute the null hypothesis $\\theta_i = 0$ with a given statistical significance level. Which, in plain language, means that you don't really trust that the associated feature impacts the target, or if it is just an accident.\n",
    "from sklearn.linear_model import LinearRegression, Ridge, Lasso, ElasticNet\n",
    "model = Lasso()\n",
    "\n",
    "model.fit(Xtrain, ytrain)"
   ]
  },
  {
   "cell_type": "code",
   "execution_count": null,
   "metadata": {},
   "outputs": [],
   "source": [
    "from sklearn.linear_model import LinearRegression, Ridge, Lasso, ElasticNet\n",
    "model = Ridge()\n",
    "\n",
    "model.fit(Xtrain, ytrain)"
   ]
  },
  {
   "cell_type": "code",
   "execution_count": null,
   "metadata": {},
   "outputs": [],
   "source": [
    "from sklearn.metrics import mean_squared_error\n",
    "\n",
    "ypred = model.predict(Xtest)\n",
    "RMSE = np.sqrt(mean_squared_error(ytest, ypred))\n",
    "print(f\"RMSE = {RMSE}\")\n",
    "error_percent = 100 * (10**RMSE - 1)\n",
    "print(f'Average error is {error_percent:.2f}%')"
   ]
  },
  {
   "cell_type": "markdown",
   "metadata": {},
   "source": [
    "Now applying a Pipeline\n"
   ]
  },
  {
   "cell_type": "code",
   "execution_count": null,
   "metadata": {},
   "outputs": [],
   "source": [
    "from sklearn.pipeline import Pipeline\n",
    "from sklearn.preprocessing import StandardScaler, PolynomialFeatures\n",
    "model = Lasso()\n",
    "\n",
    "def pred_Lasso(a, d=1):\n",
    "    pred = Pipeline([\n",
    "        (f\"poly_{d}\",PolynomialFeatures(degree=d)),\n",
    "        (\"std_scaler\", StandardScaler()),\n",
    "        (\"Lasso\",Lasso(alpha=a))\n",
    "        ])\n",
    "    return pred\n",
    "\n",
    "def pred_Ridge(d,a):\n",
    "    pred = Pipeline([\n",
    "        (f\"poly_{d}\",PolynomialFeatures(degree=d)),\n",
    "        (\"std_scaler\", StandardScaler()),\n",
    "        (\"Ridge\",Ridge(alpha=a))\n",
    "        ])\n",
    "    return pred\n",
    "\n",
    "def pred_Lr(d):\n",
    "    pred = Pipeline([\n",
    "        (f\"poly_{d}\",PolynomialFeatures(degree=d)),\n",
    "        (\"std_scaler\", StandardScaler()),\n",
    "        (\"Linear_Regression\",LinearRegression())\n",
    "        ])\n",
    "    return pred\n"
   ]
  },
  {
   "cell_type": "code",
   "execution_count": null,
   "metadata": {},
   "outputs": [],
   "source": [
    "Lpred = pred_Ridge(1,0.5)\n",
    "Lpred.fit(Xtrain,ytrain)\n",
    "\n",
    "ypred = Lpred.predict(Xtest)\n",
    "RMSE = np.sqrt(mean_squared_error(ytest, ypred))\n",
    "print(f\"RMSE = {RMSE}\")\n",
    "error_percent = 100 * (10**RMSE - 1)\n",
    "print(f'Average error is {error_percent:.2f}%')"
   ]
  }
 ],
 "metadata": {
  "kernelspec": {
   "display_name": "ames",
   "language": "python",
   "name": "python3"
  },
  "language_info": {
   "codemirror_mode": {
    "name": "ipython",
    "version": 3
   },
   "file_extension": ".py",
   "mimetype": "text/x-python",
   "name": "python",
   "nbconvert_exporter": "python",
   "pygments_lexer": "ipython3",
   "version": "3.10.3"
  },
  "orig_nbformat": 4,
  "vscode": {
   "interpreter": {
    "hash": "dbd4e51fa3f3bf2a2317a230e3ac8d5fc66f1a44e44c3383f6bf669b9d199507"
   }
  }
 },
 "nbformat": 4,
 "nbformat_minor": 2
}
