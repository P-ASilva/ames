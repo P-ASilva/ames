{
 "cells": [
  {
   "cell_type": "markdown",
   "id": "d4ee205d",
   "metadata": {},
   "source": [
    "CatBoost Regression Modeling"
   ]
  },
  {
   "cell_type": "code",
   "execution_count": 2,
   "id": "07881447",
   "metadata": {},
   "outputs": [],
   "source": [
    "import pickle\n",
    "import pathlib\n",
    "import numpy as np\n",
    "import pandas as pd\n",
    "import catboost"
   ]
  },
  {
   "cell_type": "code",
   "execution_count": 3,
   "id": "456dcf40",
   "metadata": {},
   "outputs": [
    {
     "name": "stdout",
     "output_type": "stream",
     "text": [
      "c:\\Users\\Pedro Antônio Silva\\Desktop\\Semestre 4\\Machine Learning\\proj_1\\ames\\data\n"
     ]
    },
    {
     "ename": "ModuleNotFoundError",
     "evalue": "No module named 'pandas.core.indexes.numeric'",
     "output_type": "error",
     "traceback": [
      "\u001b[1;31m---------------------------------------------------------------------------\u001b[0m",
      "\u001b[1;31mModuleNotFoundError\u001b[0m                       Traceback (most recent call last)",
      "\u001b[1;32mc:\\Users\\Pedro Antônio Silva\\Desktop\\Semestre 4\\Machine Learning\\proj_1\\ames\\notebooks\\07_catboost_regression_modeling.ipynb Cell 3\u001b[0m line \u001b[0;36m5\n\u001b[0;32m      <a href='vscode-notebook-cell:/c%3A/Users/Pedro%20Ant%C3%B4nio%20Silva/Desktop/Semestre%204/Machine%20Learning/proj_1/ames/notebooks/07_catboost_regression_modeling.ipynb#W2sZmlsZQ%3D%3D?line=2'>3</a>\u001b[0m clean_data_path \u001b[39m=\u001b[39m DATA_DIR \u001b[39m/\u001b[39m \u001b[39m'\u001b[39m\u001b[39mprocessed\u001b[39m\u001b[39m'\u001b[39m \u001b[39m/\u001b[39m \u001b[39m'\u001b[39m\u001b[39mames_clean.pkl\u001b[39m\u001b[39m'\u001b[39m\n\u001b[0;32m      <a href='vscode-notebook-cell:/c%3A/Users/Pedro%20Ant%C3%B4nio%20Silva/Desktop/Semestre%204/Machine%20Learning/proj_1/ames/notebooks/07_catboost_regression_modeling.ipynb#W2sZmlsZQ%3D%3D?line=3'>4</a>\u001b[0m \u001b[39mwith\u001b[39;00m \u001b[39mopen\u001b[39m(clean_data_path, \u001b[39m'\u001b[39m\u001b[39mrb\u001b[39m\u001b[39m'\u001b[39m) \u001b[39mas\u001b[39;00m file:\n\u001b[1;32m----> <a href='vscode-notebook-cell:/c%3A/Users/Pedro%20Ant%C3%B4nio%20Silva/Desktop/Semestre%204/Machine%20Learning/proj_1/ames/notebooks/07_catboost_regression_modeling.ipynb#W2sZmlsZQ%3D%3D?line=4'>5</a>\u001b[0m     data \u001b[39m=\u001b[39m pickle\u001b[39m.\u001b[39;49mload(file)\n",
      "\u001b[1;31mModuleNotFoundError\u001b[0m: No module named 'pandas.core.indexes.numeric'"
     ]
    }
   ],
   "source": [
    "DATA_DIR = pathlib.Path.cwd().parent / 'data'\n",
    "print(DATA_DIR)\n",
    "clean_data_path = DATA_DIR / 'processed' / 'ames_clean_eng.pkl'\n",
    "with open(clean_data_path, 'rb') as file:\n",
    "    model_data = pickle.load(file)"
   ]
  },
  {
   "cell_type": "code",
   "execution_count": null,
   "id": "4407f7c3",
   "metadata": {},
   "outputs": [],
   "source": [
    "y = model_data['SalePrice'].copy()\n",
    "X = model_data.drop(columns=['SalePrice']).copy()"
   ]
  },
  {
   "cell_type": "code",
   "execution_count": null,
   "id": "395918a7",
   "metadata": {},
   "outputs": [],
   "source": [
    "from sklearn.model_selection import train_test_split\n",
    "X_train, X_test, y_train, y_test = train_test_split(X, y, test_size=0.2, random_state=42)"
   ]
  },
  {
   "cell_type": "code",
   "execution_count": null,
   "id": "32803645",
   "metadata": {},
   "outputs": [],
   "source": [
    "from catboost import CatBoostRegressor\n",
    "\n",
    "# CatBoost model setup\n",
    "model = CatBoostRegressor(verbose=0)\n",
    "model.fit(X_train, y_train)\n",
    "\n",
    "# Predictions on test data\n",
    "ypred = model.predict(X_test)\n"
   ]
  },
  {
   "cell_type": "code",
   "execution_count": null,
   "id": "cb0188e5",
   "metadata": {},
   "outputs": [
    {
     "name": "stdout",
     "output_type": "stream",
     "text": [
      "RMSE: 0.04596950899383926\n",
      "Average error is 11.17%\n"
     ]
    }
   ],
   "source": [
    "from sklearn.metrics import mean_squared_error\n",
    "RMSE = np.sqrt(mean_squared_error(y_test, ypred))\n",
    "print(f'RMSE: {RMSE}')\n",
    "error_percentage = 100 * (10**RMSE - 1)\n",
    "print(f'Average error is {error_percentage:.2f}%')"
   ]
  },
  {
   "cell_type": "code",
   "execution_count": null,
   "id": "7f485deb",
   "metadata": {},
   "outputs": [
    {
     "name": "stdout",
     "output_type": "stream",
     "text": [
      "{'bagging_temperature': 0, 'border_count': 32, 'depth': 6, 'iterations': 500, 'l2_leaf_reg': 1, 'learning_rate': 0.05, 'random_strength': 1}\n"
     ]
    }
   ],
   "source": [
    "# Hyperparameter tuning through grid search\n",
    "from sklearn.model_selection import GridSearchCV\n",
    "\n",
    "# CatBoost model setup\n",
    "model = CatBoostRegressor(verbose=0)\n",
    "\n",
    "# best params that were already tuned = {\n",
    "# 'bagging_temperature': 0,\n",
    "# 'border_count': 32,\n",
    "# 'depth': 6,\n",
    "# 'iterations': 500,\n",
    "# 'l2_leaf_reg': 1,\n",
    "# 'learning_rate': 0.05,\n",
    "# 'random_strength': 1}\n",
    "\n",
    "param_grid = {\n",
    "    'depth': [4, 6, 8],\n",
    "    'learning_rate': [0.01, 0.05, 0.1],\n",
    "    'iterations': [100, 500],\n",
    "    'l2_leaf_reg': [1, 5, 9],\n",
    "    'border_count': [32, 128],\n",
    "    'bagging_temperature': [0, 5],\n",
    "    'random_strength': [0.5, 1, 2]\n",
    "}\n",
    "\n",
    "grid_search = GridSearchCV(estimator=model, param_grid=param_grid, cv=3, n_jobs=-1, verbose=0)\n",
    "grid_search.fit(X_train, y_train)\n",
    "\n",
    "best_params_catboost = grid_search.best_params_\n",
    "print(best_params_catboost)\n",
    "best_model_catboost = grid_search.best_estimator_"
   ]
  },
  {
   "cell_type": "code",
   "execution_count": null,
   "id": "0f513cef",
   "metadata": {},
   "outputs": [
    {
     "name": "stdout",
     "output_type": "stream",
     "text": [
      "RMSE: 0.046184052293911766\n",
      "Average error is 11.22%\n"
     ]
    }
   ],
   "source": [
    "y_pred_catboost = best_model_catboost.predict(X_test)\n",
    "RMSE_catboost = np.sqrt(mean_squared_error(y_test, y_pred_catboost))\n",
    "print(f'RMSE: {RMSE_catboost}')\n",
    "error_percentage_catboost = 100 * (10**RMSE_catboost - 1)\n",
    "print(f'Average error is {error_percentage_catboost:.2f}%')"
   ]
  }
 ],
 "metadata": {
  "kernelspec": {
   "display_name": "env",
   "language": "python",
   "name": "python3"
  },
  "language_info": {
   "codemirror_mode": {
    "name": "ipython",
    "version": 3
   },
   "file_extension": ".py",
   "mimetype": "text/x-python",
   "name": "python",
   "nbconvert_exporter": "python",
   "pygments_lexer": "ipython3",
   "version": "3.10.3"
  }
 },
 "nbformat": 4,
 "nbformat_minor": 5
}
