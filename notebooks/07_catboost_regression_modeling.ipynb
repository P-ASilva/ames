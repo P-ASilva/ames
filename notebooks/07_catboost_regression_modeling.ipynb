{
 "cells": [
  {
   "cell_type": "markdown",
   "id": "d4ee205d",
   "metadata": {},
   "source": [
    "CatBoost Regression Modeling"
   ]
  },
  {
   "cell_type": "code",
   "execution_count": 23,
   "id": "07881447",
   "metadata": {},
   "outputs": [],
   "source": [
    "import pickle\n",
    "import pathlib\n",
    "import numpy as np\n",
    "import pandas as pd\n",
    "import catboost"
   ]
  },
  {
   "cell_type": "code",
   "execution_count": 24,
   "id": "456dcf40",
   "metadata": {},
   "outputs": [
    {
     "name": "stdout",
     "output_type": "stream",
     "text": [
      "/Users/femcdias/Documents/Insper/Semestre 4/Machine Learning/Projeto1/ames/data\n"
     ]
    }
   ],
   "source": [
    "DATA_DIR = pathlib.Path.cwd().parent / 'data'\n",
    "print(DATA_DIR)\n",
    "clean_data_path = DATA_DIR / 'processed' / 'ames_clean_eng.pkl'\n",
    "with open(clean_data_path, 'rb') as file:\n",
    "    model_data = pickle.load(file)"
   ]
  },
  {
   "cell_type": "code",
   "execution_count": 25,
   "id": "4407f7c3",
   "metadata": {},
   "outputs": [],
   "source": [
    "y = model_data['SalePrice'].copy()\n",
    "X = model_data.drop(columns=['SalePrice']).copy()"
   ]
  },
  {
   "cell_type": "code",
   "execution_count": 26,
   "id": "395918a7",
   "metadata": {},
   "outputs": [],
   "source": [
    "from sklearn.model_selection import train_test_split\n",
    "X_train, X_test, y_train, y_test = train_test_split(X, y, test_size=0.2, random_state=42)"
   ]
  },
  {
   "cell_type": "code",
   "execution_count": 27,
   "id": "32803645",
   "metadata": {},
   "outputs": [],
   "source": [
    "from catboost import CatBoostRegressor\n",
    "\n",
    "# CatBoost model setup\n",
    "model = CatBoostRegressor(verbose=0)\n",
    "model.fit(X_train, y_train)\n",
    "\n",
    "# Predictions on test data\n",
    "ypred = model.predict(X_test)\n"
   ]
  },
  {
   "cell_type": "code",
   "execution_count": 28,
   "id": "cb0188e5",
   "metadata": {},
   "outputs": [
    {
     "name": "stdout",
     "output_type": "stream",
     "text": [
      "RMSE: 0.04598116542355027\n",
      "Average error is 11.17%\n"
     ]
    }
   ],
   "source": [
    "from sklearn.metrics import mean_squared_error\n",
    "RMSE = np.sqrt(mean_squared_error(y_test, ypred))\n",
    "print(f'RMSE: {RMSE}')\n",
    "error_percentage = 100 * (10**RMSE - 1)\n",
    "print(f'Average error is {error_percentage:.2f}%')"
   ]
  },
  {
   "cell_type": "code",
   "execution_count": 66,
   "id": "7f485deb",
   "metadata": {},
   "outputs": [
    {
     "name": "stdout",
     "output_type": "stream",
     "text": [
      "{'bagging_temperature': 0, 'border_count': 32, 'depth': 6, 'iterations': 4000, 'l2_leaf_reg': 0.75, 'learning_rate': 0.05, 'model_size_reg': 0.5, 'od_wait': 100, 'random_seed': 42, 'random_strength': 3}\n"
     ]
    }
   ],
   "source": [
    "# Hyperparameter tuning through grid search\n",
    "from sklearn.model_selection import GridSearchCV\n",
    "\n",
    "# CatBoost model setup\n",
    "model = CatBoostRegressor(verbose=0)\n",
    "\n",
    "best_params_already_tuned = {\n",
    "'bagging_temperature': [0],\n",
    "'border_count': [32],\n",
    "'depth': [6],\n",
    "'iterations': [4000],\n",
    "'l2_leaf_reg': [0.75],\n",
    "'model_size_reg': [0.5],\n",
    "'learning_rate': [0.05],\n",
    "'od_wait': [100],\n",
    "'random_strength': [3],\n",
    "'random_seed': [42]}\n",
    "\n",
    "# param_grid_pre_tuned_infinito = {\n",
    "#     'depth': [3, 5, 6],\n",
    "#     'learning_rate': [0.05, 0.1, 0.2],\n",
    "#     'iterations': [100, 4000, 9000],\n",
    "#     'l2_leaf_reg': [1, 2, 3],\n",
    "#     'border_count': [32, 128],\n",
    "#     'bagging_temperature': [0, 5],\n",
    "#     'random_strength': [0.5, 1, 3],\n",
    "#     'model_size_reg': [0.5, 0.75, 1],\n",
    "#     'od_wait': [100, 200, 500],\n",
    "#     'random_seed': [42],\n",
    "# }\n",
    "\n",
    "grid_search = GridSearchCV(estimator=model, param_grid=best_params_already_tuned, cv=3, n_jobs=-1, verbose=0)\n",
    "grid_search.fit(X_train, y_train)\n",
    "\n",
    "best_params_catboost = grid_search.best_params_\n",
    "print(best_params_catboost)\n",
    "best_model_catboost = grid_search.best_estimator_"
   ]
  },
  {
   "cell_type": "code",
   "execution_count": 67,
   "id": "0f513cef",
   "metadata": {},
   "outputs": [
    {
     "name": "stdout",
     "output_type": "stream",
     "text": [
      "RMSE: 0.04430943781385159\n",
      "Average error is 10.74%\n"
     ]
    }
   ],
   "source": [
    "y_pred_catboost = best_model_catboost.predict(X_test)\n",
    "RMSE_catboost = np.sqrt(mean_squared_error(y_test, y_pred_catboost))\n",
    "print(f'RMSE: {RMSE_catboost}')\n",
    "error_percentage_catboost = 100 * (10**RMSE_catboost - 1)\n",
    "print(f'Average error is {error_percentage_catboost:.2f}%')"
   ]
  }
 ],
 "metadata": {
  "kernelspec": {
   "display_name": "env",
   "language": "python",
   "name": "python3"
  },
  "language_info": {
   "codemirror_mode": {
    "name": "ipython",
    "version": 3
   },
   "file_extension": ".py",
   "mimetype": "text/x-python",
   "name": "python",
   "nbconvert_exporter": "python",
   "pygments_lexer": "ipython3",
   "version": "3.11.5"
  }
 },
 "nbformat": 4,
 "nbformat_minor": 5
}
