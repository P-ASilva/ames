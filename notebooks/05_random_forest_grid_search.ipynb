{
 "cells": [
  {
   "cell_type": "markdown",
   "id": "ec86f054",
   "metadata": {},
   "source": [
    "# Random Forest with GridSearch"
   ]
  },
  {
   "cell_type": "code",
   "execution_count": 2,
   "id": "277773ef",
   "metadata": {},
   "outputs": [],
   "source": [
    "import pandas as pd\n",
    "import numpy as np\n",
    "from sklearn.model_selection import train_test_split, GridSearchCV\n",
    "from sklearn.ensemble import RandomForestRegressor\n",
    "from sklearn.ensemble import RandomForestClassifier\n",
    "from sklearn.metrics import mean_squared_error\n",
    "from sklearn.preprocessing import OneHotEncoder\n",
    "from sklearn.pipeline import Pipeline\n",
    "from sklearn.compose import ColumnTransformer\n",
    "from sklearn.metrics import classification_report, accuracy_score\n",
    "import pickle\n",
    "import pathlib\n"
   ]
  },
  {
   "cell_type": "code",
   "execution_count": 3,
   "id": "e1a2f9f5",
   "metadata": {},
   "outputs": [
    {
     "name": "stdout",
     "output_type": "stream",
     "text": [
      "<class 'pandas.core.frame.DataFrame'>\n",
      "Int64Index: 2877 entries, 0 to 2929\n",
      "Data columns (total 70 columns):\n",
      " #   Column           Non-Null Count  Dtype   \n",
      "---  ------           --------------  -----   \n",
      " 0   MS.SubClass      2877 non-null   category\n",
      " 1   MS.Zoning        2877 non-null   category\n",
      " 2   Lot.Frontage     2877 non-null   float64 \n",
      " 3   Lot.Area         2877 non-null   float64 \n",
      " 4   Lot.Shape        2877 non-null   category\n",
      " 5   Land.Contour     2877 non-null   category\n",
      " 6   Lot.Config       2877 non-null   category\n",
      " 7   Land.Slope       2877 non-null   category\n",
      " 8   Neighborhood     2877 non-null   category\n",
      " 9   Bldg.Type        2877 non-null   category\n",
      " 10  House.Style      2877 non-null   category\n",
      " 11  Overall.Qual     2877 non-null   category\n",
      " 12  Overall.Cond     2877 non-null   category\n",
      " 13  Roof.Style       2877 non-null   category\n",
      " 14  Mas.Vnr.Type     2877 non-null   category\n",
      " 15  Mas.Vnr.Area     2877 non-null   float64 \n",
      " 16  Exter.Qual       2877 non-null   category\n",
      " 17  Exter.Cond       2877 non-null   category\n",
      " 18  Foundation       2877 non-null   category\n",
      " 19  Bsmt.Qual        2877 non-null   category\n",
      " 20  Bsmt.Cond        2877 non-null   category\n",
      " 21  Bsmt.Exposure    2877 non-null   category\n",
      " 22  BsmtFin.Type.1   2877 non-null   category\n",
      " 23  BsmtFin.SF.1     2877 non-null   float64 \n",
      " 24  BsmtFin.Type.2   2877 non-null   category\n",
      " 25  BsmtFin.SF.2     2877 non-null   float64 \n",
      " 26  Bsmt.Unf.SF      2877 non-null   float64 \n",
      " 27  Total.Bsmt.SF    2877 non-null   float64 \n",
      " 28  Heating.QC       2877 non-null   category\n",
      " 29  Central.Air      2877 non-null   category\n",
      " 30  Electrical       2877 non-null   category\n",
      " 31  X1st.Flr.SF      2877 non-null   float64 \n",
      " 32  X2nd.Flr.SF      2877 non-null   float64 \n",
      " 33  Low.Qual.Fin.SF  2877 non-null   float64 \n",
      " 34  Gr.Liv.Area      2877 non-null   float64 \n",
      " 35  Bsmt.Full.Bath   2877 non-null   float64 \n",
      " 36  Bsmt.Half.Bath   2877 non-null   float64 \n",
      " 37  Full.Bath        2877 non-null   float64 \n",
      " 38  Half.Bath        2877 non-null   float64 \n",
      " 39  Bedroom.AbvGr    2877 non-null   float64 \n",
      " 40  Kitchen.AbvGr    2877 non-null   float64 \n",
      " 41  Kitchen.Qual     2877 non-null   category\n",
      " 42  TotRms.AbvGrd    2877 non-null   float64 \n",
      " 43  Functional       2877 non-null   category\n",
      " 44  Fireplaces       2877 non-null   float64 \n",
      " 45  Garage.Type      2877 non-null   category\n",
      " 46  Garage.Finish    2877 non-null   category\n",
      " 47  Garage.Cars      2877 non-null   float64 \n",
      " 48  Garage.Area      2877 non-null   float64 \n",
      " 49  Paved.Drive      2877 non-null   category\n",
      " 50  Wood.Deck.SF     2877 non-null   float64 \n",
      " 51  Open.Porch.SF    2877 non-null   float64 \n",
      " 52  Enclosed.Porch   2877 non-null   float64 \n",
      " 53  X3Ssn.Porch      2877 non-null   float64 \n",
      " 54  Screen.Porch     2877 non-null   float64 \n",
      " 55  Pool.Area        2877 non-null   float64 \n",
      " 56  Fence            2877 non-null   category\n",
      " 57  Misc.Val         2877 non-null   float64 \n",
      " 58  Mo.Sold          2877 non-null   float64 \n",
      " 59  Yr.Sold          2877 non-null   float64 \n",
      " 60  Sale.Type        2877 non-null   category\n",
      " 61  Sale.Condition   2877 non-null   category\n",
      " 62  SalePrice        2877 non-null   float64 \n",
      " 63  Condition        2877 non-null   category\n",
      " 64  HasShed          2877 non-null   bool    \n",
      " 65  HasAlley         2877 non-null   bool    \n",
      " 66  Exterior         2877 non-null   category\n",
      " 67  Garage.Age       2877 non-null   float64 \n",
      " 68  Remod.Age        2877 non-null   float64 \n",
      " 69  House.Age        2877 non-null   float64 \n",
      "dtypes: bool(2), category(34), float64(34)\n",
      "memory usage: 889.4 KB\n"
     ]
    }
   ],
   "source": [
    "\n",
    "DATA_DIR = pathlib.Path.cwd().parent / 'data'\n",
    "clean_data_path = DATA_DIR / 'processed' / 'ames_clean.pkl'\n",
    "\n",
    "# Lodando\n",
    "with open(clean_data_path, 'rb') as file:\n",
    "    data = pickle.load(file)\n",
    "\n",
    "data.info()\n"
   ]
  },
  {
   "cell_type": "code",
   "execution_count": 4,
   "id": "a29752e2",
   "metadata": {},
   "outputs": [
    {
     "data": {
      "text/plain": [
       "((2301, 69), (576, 69), (2301,), (576,))"
      ]
     },
     "execution_count": 4,
     "metadata": {},
     "output_type": "execute_result"
    }
   ],
   "source": [
    "# Target vs Features\n",
    "X = data.drop(columns=['SalePrice'])\n",
    "y = data['SalePrice']\n",
    "\n",
    "# Test + Train\n",
    "X_train, X_test, y_train, y_test = train_test_split(X, y, test_size=0.2, random_state=42)\n",
    "X_train.shape, X_test.shape, y_train.shape, y_test.shape\n"
   ]
  },
  {
   "cell_type": "code",
   "execution_count": 5,
   "id": "76496f97",
   "metadata": {},
   "outputs": [
    {
     "data": {
      "text/plain": [
       "['MS.Zoning',\n",
       " 'Lot.Shape',\n",
       " 'Land.Contour',\n",
       " 'Lot.Config',\n",
       " 'Land.Slope',\n",
       " 'Bldg.Type',\n",
       " 'House.Style',\n",
       " 'Overall.Cond',\n",
       " 'Roof.Style',\n",
       " 'Mas.Vnr.Type',\n",
       " 'Exter.Qual',\n",
       " 'Exter.Cond',\n",
       " 'Foundation',\n",
       " 'Bsmt.Qual',\n",
       " 'Bsmt.Cond',\n",
       " 'Bsmt.Exposure',\n",
       " 'BsmtFin.Type.1',\n",
       " 'BsmtFin.Type.2',\n",
       " 'Heating.QC',\n",
       " 'Central.Air',\n",
       " 'Electrical',\n",
       " 'Kitchen.Qual',\n",
       " 'Functional',\n",
       " 'Garage.Type',\n",
       " 'Garage.Finish',\n",
       " 'Paved.Drive',\n",
       " 'Fence',\n",
       " 'Sale.Type',\n",
       " 'Sale.Condition',\n",
       " 'Condition']"
      ]
     },
     "execution_count": 5,
     "metadata": {},
     "output_type": "execute_result"
    }
   ],
   "source": [
    "# Identificar colunas categóricas\n",
    "categorical_cols = [cname for cname in X_train.columns if \n",
    "                    X_train[cname].dtype == 'category' and \n",
    "                    X_train[cname].nunique() < 10]\n",
    "\n",
    "categorical_cols"
   ]
  },
  {
   "cell_type": "code",
   "execution_count": 21,
   "id": "9bc12505",
   "metadata": {},
   "outputs": [],
   "source": [
    "# debug cell remove later\n",
    "# sample = preprocessor.fit_transform(X_train)\n",
    "# contains_string = np.any([isinstance(item, str) for item in sample])\n",
    "# no errors in preprocessing.\n",
    "## print(contains_string)"
   ]
  },
  {
   "cell_type": "code",
   "execution_count": 8,
   "id": "87b4203e",
   "metadata": {},
   "outputs": [],
   "source": [
    "# One Hot Encoder\n",
    "preprocessor = ColumnTransformer(\n",
    "    transformers=[\n",
    "        ('cat', OneHotEncoder(drop='first'), categorical_cols)  # drop='first' to avoid collinearity\n",
    "    ],\n",
    "    remainder='passthrough'  # automatically passthrough remaining columns\n",
    ")\n",
    "\n",
    "# Pipando o line\n",
    "model = Pipeline(steps=[('preprocessor', preprocessor),\n",
    "                        ('rf', RandomForestRegressor(random_state=42))\n",
    "                       ])\n",
    "\n",
    "# Hyperparametros\n",
    "param_grid = {\n",
    "    'rf__n_estimators': [10, 50, 100, 200],\n",
    "    'rf__max_depth': [None, 10, 20, 30],\n",
    "    'rf__min_samples_split': [2, 5, 10],\n",
    "    'rf__min_samples_leaf': [1, 2, 4]\n",
    "}\n",
    "\n",
    "# Gridsearch\n",
    "grid_search = GridSearchCV(estimator=model, param_grid=param_grid, \n",
    "                           cv=5, scoring='neg_mean_squared_error', \n",
    "                           verbose=2, n_jobs=-1)\n"
   ]
  },
  {
   "cell_type": "code",
   "execution_count": 12,
   "id": "3f4d9c61",
   "metadata": {},
   "outputs": [
    {
     "name": "stdout",
     "output_type": "stream",
     "text": [
      "Fitting 5 folds for each of 144 candidates, totalling 720 fits\n"
     ]
    },
    {
     "ename": "ValueError",
     "evalue": "\nAll the 720 fits failed.\nIt is very likely that your model is misconfigured.\nYou can try to debug the error by setting error_score='raise'.\n\nBelow are more details about the failures:\n--------------------------------------------------------------------------------\n144 fits failed with the following error:\nTraceback (most recent call last):\n  File \"c:\\Users\\Pedro Antônio Silva\\AppData\\Local\\Programs\\Python\\Python310\\lib\\site-packages\\sklearn\\model_selection\\_validation.py\", line 686, in _fit_and_score\n    estimator.fit(X_train, y_train, **fit_params)\n  File \"c:\\Users\\Pedro Antônio Silva\\AppData\\Local\\Programs\\Python\\Python310\\lib\\site-packages\\sklearn\\pipeline.py\", line 405, in fit\n    self._final_estimator.fit(Xt, y, **fit_params_last_step)\n  File \"c:\\Users\\Pedro Antônio Silva\\AppData\\Local\\Programs\\Python\\Python310\\lib\\site-packages\\sklearn\\ensemble\\_forest.py\", line 345, in fit\n    X, y = self._validate_data(\n  File \"c:\\Users\\Pedro Antônio Silva\\AppData\\Local\\Programs\\Python\\Python310\\lib\\site-packages\\sklearn\\base.py\", line 584, in _validate_data\n    X, y = check_X_y(X, y, **check_params)\n  File \"c:\\Users\\Pedro Antônio Silva\\AppData\\Local\\Programs\\Python\\Python310\\lib\\site-packages\\sklearn\\utils\\validation.py\", line 1106, in check_X_y\n    X = check_array(\n  File \"c:\\Users\\Pedro Antônio Silva\\AppData\\Local\\Programs\\Python\\Python310\\lib\\site-packages\\sklearn\\utils\\validation.py\", line 879, in check_array\n    array = _asarray_with_order(array, order=order, dtype=dtype, xp=xp)\n  File \"c:\\Users\\Pedro Antônio Silva\\AppData\\Local\\Programs\\Python\\Python310\\lib\\site-packages\\sklearn\\utils\\_array_api.py\", line 185, in _asarray_with_order\n    array = numpy.asarray(array, order=order, dtype=dtype)\nValueError: could not convert string to float: 'NridgHt'\n\n--------------------------------------------------------------------------------\n576 fits failed with the following error:\nTraceback (most recent call last):\n  File \"c:\\Users\\Pedro Antônio Silva\\AppData\\Local\\Programs\\Python\\Python310\\lib\\site-packages\\sklearn\\model_selection\\_validation.py\", line 686, in _fit_and_score\n    estimator.fit(X_train, y_train, **fit_params)\n  File \"c:\\Users\\Pedro Antônio Silva\\AppData\\Local\\Programs\\Python\\Python310\\lib\\site-packages\\sklearn\\pipeline.py\", line 405, in fit\n    self._final_estimator.fit(Xt, y, **fit_params_last_step)\n  File \"c:\\Users\\Pedro Antônio Silva\\AppData\\Local\\Programs\\Python\\Python310\\lib\\site-packages\\sklearn\\ensemble\\_forest.py\", line 345, in fit\n    X, y = self._validate_data(\n  File \"c:\\Users\\Pedro Antônio Silva\\AppData\\Local\\Programs\\Python\\Python310\\lib\\site-packages\\sklearn\\base.py\", line 584, in _validate_data\n    X, y = check_X_y(X, y, **check_params)\n  File \"c:\\Users\\Pedro Antônio Silva\\AppData\\Local\\Programs\\Python\\Python310\\lib\\site-packages\\sklearn\\utils\\validation.py\", line 1106, in check_X_y\n    X = check_array(\n  File \"c:\\Users\\Pedro Antônio Silva\\AppData\\Local\\Programs\\Python\\Python310\\lib\\site-packages\\sklearn\\utils\\validation.py\", line 879, in check_array\n    array = _asarray_with_order(array, order=order, dtype=dtype, xp=xp)\n  File \"c:\\Users\\Pedro Antônio Silva\\AppData\\Local\\Programs\\Python\\Python310\\lib\\site-packages\\sklearn\\utils\\_array_api.py\", line 185, in _asarray_with_order\n    array = numpy.asarray(array, order=order, dtype=dtype)\nValueError: could not convert string to float: 'CollgCr'\n",
     "output_type": "error",
     "traceback": [
      "\u001b[1;31m---------------------------------------------------------------------------\u001b[0m",
      "\u001b[1;31mValueError\u001b[0m                                Traceback (most recent call last)",
      "\u001b[1;32mc:\\Users\\Pedro Antônio Silva\\Desktop\\Semestre 4\\Machine Learning\\proj_1\\ames\\notebooks\\05_random_forest_grid_search.ipynb Cell 8\u001b[0m line \u001b[0;36m<cell line: 1>\u001b[1;34m()\u001b[0m\n\u001b[1;32m----> <a href='vscode-notebook-cell:/c%3A/Users/Pedro%20Ant%C3%B4nio%20Silva/Desktop/Semestre%204/Machine%20Learning/proj_1/ames/notebooks/05_random_forest_grid_search.ipynb#X11sZmlsZQ%3D%3D?line=0'>1</a>\u001b[0m grid_search\u001b[39m.\u001b[39;49mfit(X_train, y_train)\n",
      "File \u001b[1;32mc:\\Users\\Pedro Antônio Silva\\AppData\\Local\\Programs\\Python\\Python310\\lib\\site-packages\\sklearn\\model_selection\\_search.py:874\u001b[0m, in \u001b[0;36mBaseSearchCV.fit\u001b[1;34m(self, X, y, groups, **fit_params)\u001b[0m\n\u001b[0;32m    868\u001b[0m     results \u001b[39m=\u001b[39m \u001b[39mself\u001b[39m\u001b[39m.\u001b[39m_format_results(\n\u001b[0;32m    869\u001b[0m         all_candidate_params, n_splits, all_out, all_more_results\n\u001b[0;32m    870\u001b[0m     )\n\u001b[0;32m    872\u001b[0m     \u001b[39mreturn\u001b[39;00m results\n\u001b[1;32m--> 874\u001b[0m \u001b[39mself\u001b[39;49m\u001b[39m.\u001b[39;49m_run_search(evaluate_candidates)\n\u001b[0;32m    876\u001b[0m \u001b[39m# multimetric is determined here because in the case of a callable\u001b[39;00m\n\u001b[0;32m    877\u001b[0m \u001b[39m# self.scoring the return type is only known after calling\u001b[39;00m\n\u001b[0;32m    878\u001b[0m first_test_score \u001b[39m=\u001b[39m all_out[\u001b[39m0\u001b[39m][\u001b[39m\"\u001b[39m\u001b[39mtest_scores\u001b[39m\u001b[39m\"\u001b[39m]\n",
      "File \u001b[1;32mc:\\Users\\Pedro Antônio Silva\\AppData\\Local\\Programs\\Python\\Python310\\lib\\site-packages\\sklearn\\model_selection\\_search.py:1388\u001b[0m, in \u001b[0;36mGridSearchCV._run_search\u001b[1;34m(self, evaluate_candidates)\u001b[0m\n\u001b[0;32m   1386\u001b[0m \u001b[39mdef\u001b[39;00m \u001b[39m_run_search\u001b[39m(\u001b[39mself\u001b[39m, evaluate_candidates):\n\u001b[0;32m   1387\u001b[0m \u001b[39m    \u001b[39m\u001b[39m\"\"\"Search all candidates in param_grid\"\"\"\u001b[39;00m\n\u001b[1;32m-> 1388\u001b[0m     evaluate_candidates(ParameterGrid(\u001b[39mself\u001b[39;49m\u001b[39m.\u001b[39;49mparam_grid))\n",
      "File \u001b[1;32mc:\\Users\\Pedro Antônio Silva\\AppData\\Local\\Programs\\Python\\Python310\\lib\\site-packages\\sklearn\\model_selection\\_search.py:851\u001b[0m, in \u001b[0;36mBaseSearchCV.fit.<locals>.evaluate_candidates\u001b[1;34m(candidate_params, cv, more_results)\u001b[0m\n\u001b[0;32m    844\u001b[0m \u001b[39melif\u001b[39;00m \u001b[39mlen\u001b[39m(out) \u001b[39m!=\u001b[39m n_candidates \u001b[39m*\u001b[39m n_splits:\n\u001b[0;32m    845\u001b[0m     \u001b[39mraise\u001b[39;00m \u001b[39mValueError\u001b[39;00m(\n\u001b[0;32m    846\u001b[0m         \u001b[39m\"\u001b[39m\u001b[39mcv.split and cv.get_n_splits returned \u001b[39m\u001b[39m\"\u001b[39m\n\u001b[0;32m    847\u001b[0m         \u001b[39m\"\u001b[39m\u001b[39minconsistent results. Expected \u001b[39m\u001b[39m{}\u001b[39;00m\u001b[39m \u001b[39m\u001b[39m\"\u001b[39m\n\u001b[0;32m    848\u001b[0m         \u001b[39m\"\u001b[39m\u001b[39msplits, got \u001b[39m\u001b[39m{}\u001b[39;00m\u001b[39m\"\u001b[39m\u001b[39m.\u001b[39mformat(n_splits, \u001b[39mlen\u001b[39m(out) \u001b[39m/\u001b[39m\u001b[39m/\u001b[39m n_candidates)\n\u001b[0;32m    849\u001b[0m     )\n\u001b[1;32m--> 851\u001b[0m _warn_or_raise_about_fit_failures(out, \u001b[39mself\u001b[39;49m\u001b[39m.\u001b[39;49merror_score)\n\u001b[0;32m    853\u001b[0m \u001b[39m# For callable self.scoring, the return type is only know after\u001b[39;00m\n\u001b[0;32m    854\u001b[0m \u001b[39m# calling. If the return type is a dictionary, the error scores\u001b[39;00m\n\u001b[0;32m    855\u001b[0m \u001b[39m# can now be inserted with the correct key. The type checking\u001b[39;00m\n\u001b[0;32m    856\u001b[0m \u001b[39m# of out will be done in `_insert_error_scores`.\u001b[39;00m\n\u001b[0;32m    857\u001b[0m \u001b[39mif\u001b[39;00m callable(\u001b[39mself\u001b[39m\u001b[39m.\u001b[39mscoring):\n",
      "File \u001b[1;32mc:\\Users\\Pedro Antônio Silva\\AppData\\Local\\Programs\\Python\\Python310\\lib\\site-packages\\sklearn\\model_selection\\_validation.py:367\u001b[0m, in \u001b[0;36m_warn_or_raise_about_fit_failures\u001b[1;34m(results, error_score)\u001b[0m\n\u001b[0;32m    360\u001b[0m \u001b[39mif\u001b[39;00m num_failed_fits \u001b[39m==\u001b[39m num_fits:\n\u001b[0;32m    361\u001b[0m     all_fits_failed_message \u001b[39m=\u001b[39m (\n\u001b[0;32m    362\u001b[0m         \u001b[39mf\u001b[39m\u001b[39m\"\u001b[39m\u001b[39m\\n\u001b[39;00m\u001b[39mAll the \u001b[39m\u001b[39m{\u001b[39;00mnum_fits\u001b[39m}\u001b[39;00m\u001b[39m fits failed.\u001b[39m\u001b[39m\\n\u001b[39;00m\u001b[39m\"\u001b[39m\n\u001b[0;32m    363\u001b[0m         \u001b[39m\"\u001b[39m\u001b[39mIt is very likely that your model is misconfigured.\u001b[39m\u001b[39m\\n\u001b[39;00m\u001b[39m\"\u001b[39m\n\u001b[0;32m    364\u001b[0m         \u001b[39m\"\u001b[39m\u001b[39mYou can try to debug the error by setting error_score=\u001b[39m\u001b[39m'\u001b[39m\u001b[39mraise\u001b[39m\u001b[39m'\u001b[39m\u001b[39m.\u001b[39m\u001b[39m\\n\u001b[39;00m\u001b[39m\\n\u001b[39;00m\u001b[39m\"\u001b[39m\n\u001b[0;32m    365\u001b[0m         \u001b[39mf\u001b[39m\u001b[39m\"\u001b[39m\u001b[39mBelow are more details about the failures:\u001b[39m\u001b[39m\\n\u001b[39;00m\u001b[39m{\u001b[39;00mfit_errors_summary\u001b[39m}\u001b[39;00m\u001b[39m\"\u001b[39m\n\u001b[0;32m    366\u001b[0m     )\n\u001b[1;32m--> 367\u001b[0m     \u001b[39mraise\u001b[39;00m \u001b[39mValueError\u001b[39;00m(all_fits_failed_message)\n\u001b[0;32m    369\u001b[0m \u001b[39melse\u001b[39;00m:\n\u001b[0;32m    370\u001b[0m     some_fits_failed_message \u001b[39m=\u001b[39m (\n\u001b[0;32m    371\u001b[0m         \u001b[39mf\u001b[39m\u001b[39m\"\u001b[39m\u001b[39m\\n\u001b[39;00m\u001b[39m{\u001b[39;00mnum_failed_fits\u001b[39m}\u001b[39;00m\u001b[39m fits failed out of a total of \u001b[39m\u001b[39m{\u001b[39;00mnum_fits\u001b[39m}\u001b[39;00m\u001b[39m.\u001b[39m\u001b[39m\\n\u001b[39;00m\u001b[39m\"\u001b[39m\n\u001b[0;32m    372\u001b[0m         \u001b[39m\"\u001b[39m\u001b[39mThe score on these train-test partitions for these parameters\u001b[39m\u001b[39m\"\u001b[39m\n\u001b[1;32m   (...)\u001b[0m\n\u001b[0;32m    376\u001b[0m         \u001b[39mf\u001b[39m\u001b[39m\"\u001b[39m\u001b[39mBelow are more details about the failures:\u001b[39m\u001b[39m\\n\u001b[39;00m\u001b[39m{\u001b[39;00mfit_errors_summary\u001b[39m}\u001b[39;00m\u001b[39m\"\u001b[39m\n\u001b[0;32m    377\u001b[0m     )\n",
      "\u001b[1;31mValueError\u001b[0m: \nAll the 720 fits failed.\nIt is very likely that your model is misconfigured.\nYou can try to debug the error by setting error_score='raise'.\n\nBelow are more details about the failures:\n--------------------------------------------------------------------------------\n144 fits failed with the following error:\nTraceback (most recent call last):\n  File \"c:\\Users\\Pedro Antônio Silva\\AppData\\Local\\Programs\\Python\\Python310\\lib\\site-packages\\sklearn\\model_selection\\_validation.py\", line 686, in _fit_and_score\n    estimator.fit(X_train, y_train, **fit_params)\n  File \"c:\\Users\\Pedro Antônio Silva\\AppData\\Local\\Programs\\Python\\Python310\\lib\\site-packages\\sklearn\\pipeline.py\", line 405, in fit\n    self._final_estimator.fit(Xt, y, **fit_params_last_step)\n  File \"c:\\Users\\Pedro Antônio Silva\\AppData\\Local\\Programs\\Python\\Python310\\lib\\site-packages\\sklearn\\ensemble\\_forest.py\", line 345, in fit\n    X, y = self._validate_data(\n  File \"c:\\Users\\Pedro Antônio Silva\\AppData\\Local\\Programs\\Python\\Python310\\lib\\site-packages\\sklearn\\base.py\", line 584, in _validate_data\n    X, y = check_X_y(X, y, **check_params)\n  File \"c:\\Users\\Pedro Antônio Silva\\AppData\\Local\\Programs\\Python\\Python310\\lib\\site-packages\\sklearn\\utils\\validation.py\", line 1106, in check_X_y\n    X = check_array(\n  File \"c:\\Users\\Pedro Antônio Silva\\AppData\\Local\\Programs\\Python\\Python310\\lib\\site-packages\\sklearn\\utils\\validation.py\", line 879, in check_array\n    array = _asarray_with_order(array, order=order, dtype=dtype, xp=xp)\n  File \"c:\\Users\\Pedro Antônio Silva\\AppData\\Local\\Programs\\Python\\Python310\\lib\\site-packages\\sklearn\\utils\\_array_api.py\", line 185, in _asarray_with_order\n    array = numpy.asarray(array, order=order, dtype=dtype)\nValueError: could not convert string to float: 'NridgHt'\n\n--------------------------------------------------------------------------------\n576 fits failed with the following error:\nTraceback (most recent call last):\n  File \"c:\\Users\\Pedro Antônio Silva\\AppData\\Local\\Programs\\Python\\Python310\\lib\\site-packages\\sklearn\\model_selection\\_validation.py\", line 686, in _fit_and_score\n    estimator.fit(X_train, y_train, **fit_params)\n  File \"c:\\Users\\Pedro Antônio Silva\\AppData\\Local\\Programs\\Python\\Python310\\lib\\site-packages\\sklearn\\pipeline.py\", line 405, in fit\n    self._final_estimator.fit(Xt, y, **fit_params_last_step)\n  File \"c:\\Users\\Pedro Antônio Silva\\AppData\\Local\\Programs\\Python\\Python310\\lib\\site-packages\\sklearn\\ensemble\\_forest.py\", line 345, in fit\n    X, y = self._validate_data(\n  File \"c:\\Users\\Pedro Antônio Silva\\AppData\\Local\\Programs\\Python\\Python310\\lib\\site-packages\\sklearn\\base.py\", line 584, in _validate_data\n    X, y = check_X_y(X, y, **check_params)\n  File \"c:\\Users\\Pedro Antônio Silva\\AppData\\Local\\Programs\\Python\\Python310\\lib\\site-packages\\sklearn\\utils\\validation.py\", line 1106, in check_X_y\n    X = check_array(\n  File \"c:\\Users\\Pedro Antônio Silva\\AppData\\Local\\Programs\\Python\\Python310\\lib\\site-packages\\sklearn\\utils\\validation.py\", line 879, in check_array\n    array = _asarray_with_order(array, order=order, dtype=dtype, xp=xp)\n  File \"c:\\Users\\Pedro Antônio Silva\\AppData\\Local\\Programs\\Python\\Python310\\lib\\site-packages\\sklearn\\utils\\_array_api.py\", line 185, in _asarray_with_order\n    array = numpy.asarray(array, order=order, dtype=dtype)\nValueError: could not convert string to float: 'CollgCr'\n"
     ]
    }
   ],
   "source": [
    "grid_search.fit(X_train, y_train)"
   ]
  },
  {
   "cell_type": "code",
   "execution_count": null,
   "id": "fe822733",
   "metadata": {},
   "outputs": [],
   "source": [
    "\n",
    "# Grid search\n",
    "best_params = grid_search.best_params_\n",
    "print(f\"Best parameters: {best_params}\")\n",
    "\n",
    "y_pred = grid_search.best_estimator_.predict(X_test)\n",
    "\n",
    "# RMSE\n",
    "mse = mean_squared_error(y_test, y_pred)\n",
    "rmse = np.sqrt(mse)\n",
    "print(f\"Mean Squared Error on the testing set: {mse:.2f}\")\n",
    "print(f\"Root Mean Squared Error on the testing set: {rmse:.2f}\")\n"
   ]
  }
 ],
 "metadata": {
  "kernelspec": {
   "display_name": "Python 3",
   "language": "python",
   "name": "python3"
  },
  "language_info": {
   "codemirror_mode": {
    "name": "ipython",
    "version": 3
   },
   "file_extension": ".py",
   "mimetype": "text/x-python",
   "name": "python",
   "nbconvert_exporter": "python",
   "pygments_lexer": "ipython3",
   "version": "3.10.3"
  }
 },
 "nbformat": 4,
 "nbformat_minor": 5
}
