{
 "cells": [
  {
   "cell_type": "code",
   "execution_count": null,
   "metadata": {},
   "outputs": [],
   "source": [
    "import pickle\n",
    "import pathlib\n",
    "\n",
    "import numpy as np\n",
    "import pandas as pd"
   ]
  },
  {
   "cell_type": "code",
   "execution_count": null,
   "metadata": {},
   "outputs": [],
   "source": [
    "DATA_DIR = pathlib.Path.cwd().parent / 'data'\n",
    "print(DATA_DIR)"
   ]
  },
  {
   "cell_type": "code",
   "execution_count": null,
   "metadata": {},
   "outputs": [],
   "source": [
    "clean_data_path = DATA_DIR / 'processed' / 'ames_clean.pkl'"
   ]
  },
  {
   "cell_type": "code",
   "execution_count": null,
   "metadata": {},
   "outputs": [],
   "source": [
    "with open(clean_data_path, 'rb') as file:\n",
    "    data = pickle.load(file)"
   ]
  },
  {
   "cell_type": "code",
   "execution_count": null,
   "metadata": {},
   "outputs": [],
   "source": [
    "data.info()"
   ]
  },
  {
   "cell_type": "code",
   "execution_count": null,
   "metadata": {},
   "outputs": [],
   "source": [
    "data.hist(figsize=(15,15))"
   ]
  },
  {
   "cell_type": "code",
   "execution_count": null,
   "metadata": {},
   "outputs": [],
   "source": [
    "## We could drop those...\n",
    "\n",
    "# pool area - pool area =D\n",
    "\n",
    "# X3Ssn.Porch - Three season porch area in square feet - REMOVE\n",
    "# Screen.Porch - Screen porch area in square feet\n",
    "# *Enclosed.Porch - Enclosed porch area in square feet\n",
    "\n",
    "# Misc.Val - $Value of miscellaneous feature\n",
    "\n",
    "\n",
    "\n",
    "# BsmtFin.SF.2 - Rating of basement finished area (if multiple types)\n",
    "\n",
    "# Lot.Area - Lot size in square feet - NOT REMOVE\n",
    "\n",
    "# Kitchen.AbvGr\n",
    "\n",
    "# Bsmt.Half.Bath\n",
    "\n",
    "# Low.Qual.Fin.SF"
   ]
  },
  {
   "cell_type": "code",
   "execution_count": null,
   "metadata": {},
   "outputs": [],
   "source": [
    "import matplotlib.pyplot as plt\n",
    "\n",
    "plt.hist(data[\"Lot.Area\"], bins=200 )  # You can adjust the number of bins as needed\n",
    "plt.xlabel(\"Lot Area\")\n",
    "plt.ylabel(\"Frequency\")\n",
    "plt.title(\"Histogram of Lot Area\")\n",
    "plt.xlim(0, 20000)\n",
    "plt.show()"
   ]
  },
  {
   "cell_type": "code",
   "execution_count": null,
   "metadata": {},
   "outputs": [],
   "source": [
    "data[\"BsmtFin.SF.2\"].hist(bins=50, range=(10,1500), figsize = (10,6))"
   ]
  },
  {
   "cell_type": "code",
   "execution_count": null,
   "metadata": {},
   "outputs": [],
   "source": [
    "def show_nonNull_percent(label):\n",
    "    f = data[label] != 0\n",
    "    print(data[label][f].value_counts().sum()/data[label].shape[0] *100)"
   ]
  },
  {
   "cell_type": "code",
   "execution_count": null,
   "metadata": {},
   "outputs": [],
   "source": [
    "vc = data[\"BsmtFin.SF.2\"]\n",
    "print(vc[vc != 0].value_counts().sum()/vc[vc==0].value_counts()[0] *100) # manter só o Total.Bsmt.SF"
   ]
  },
  {
   "cell_type": "code",
   "execution_count": null,
   "metadata": {},
   "outputs": [],
   "source": [
    "\"Kitchen.AbvGr\" # REMOVE"
   ]
  },
  {
   "cell_type": "code",
   "execution_count": null,
   "metadata": {},
   "outputs": [],
   "source": [
    "show_nonNull_percent(\"X3Ssn.Porch\")  # remove?"
   ]
  },
  {
   "cell_type": "code",
   "execution_count": null,
   "metadata": {},
   "outputs": [],
   "source": [
    "show_nonNull_percent(\"Screen.Porch\")"
   ]
  },
  {
   "cell_type": "code",
   "execution_count": null,
   "metadata": {},
   "outputs": [],
   "source": [
    "show_nonNull_percent(\"Enclosed.Porch\")"
   ]
  },
  {
   "cell_type": "markdown",
   "metadata": {},
   "source": [
    "**Fazer Total.Porch.A ?**"
   ]
  }
 ],
 "metadata": {
  "kernelspec": {
   "display_name": "Python 3",
   "language": "python",
   "name": "python3"
  },
  "language_info": {
   "codemirror_mode": {
    "name": "ipython",
    "version": 3
   },
   "file_extension": ".py",
   "mimetype": "text/x-python",
   "name": "python",
   "nbconvert_exporter": "python",
   "pygments_lexer": "ipython3",
   "version": "3.10.3"
  }
 },
 "nbformat": 4,
 "nbformat_minor": 2
}
