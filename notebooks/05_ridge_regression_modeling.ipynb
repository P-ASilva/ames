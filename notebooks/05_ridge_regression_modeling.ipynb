{
 "cells": [
  {
   "cell_type": "code",
   "execution_count": null,
   "metadata": {},
   "outputs": [],
   "source": [
    "import pickle\n",
    "import pathlib\n",
    "\n",
    "import numpy as np\n",
    "import pandas as pd"
   ]
  },
  {
   "cell_type": "code",
   "execution_count": null,
   "metadata": {},
   "outputs": [],
   "source": [
    "DATA_DIR = pathlib.Path.cwd().parent / 'data'\n",
    "print(DATA_DIR)\n",
    "clean_data_path = DATA_DIR / 'processed' / 'ames_clean_eng.pkl'\n",
    "with open(clean_data_path, 'rb') as file:\n",
    "    data = pickle.load(file)"
   ]
  },
  {
   "cell_type": "code",
   "execution_count": null,
   "metadata": {},
   "outputs": [],
   "source": [
    "from sklearn.linear_model import Ridge\n",
    "from sklearn.metrics import mean_squared_error\n",
    "from sklearn.model_selection import GridSearchCV, train_test_split\n",
    "from sklearn.pipeline import Pipeline\n",
    "from sklearn.preprocessing import PolynomialFeatures, PowerTransformer, RobustScaler, StandardScaler, Normalizer\n",
    "from sklearn.compose import ColumnTransformer\n",
    "\n",
    "model_data = data.copy()\n",
    "\n",
    "y = model_data[\"SalePrice\"].copy()\n",
    "X = model_data.drop(columns=[\"SalePrice\"]).copy()\n",
    "        \n",
    "Xtrain, Xtest, ytrain, ytest = train_test_split(X,y,test_size=0.25,random_state=12,)\n",
    "\n",
    "piped_model = Pipeline([\n",
    "    (\"Poly\", PolynomialFeatures()),\n",
    "    (\"Scaler\", StandardScaler()),\n",
    "    (\"Ridge\", Ridge())\n",
    "])\n",
    "\n",
    "param_grid_r = {\n",
    "    'Ridge__alpha': [0.1, 1.0, 10.0],  # List of alpha values to try\n",
    "    'Poly__degree': [0, 1, 2],\n",
    "}\n",
    "\n",
    "grid_search_r = GridSearchCV(piped_model, param_grid_r, \n",
    "                              cv=5)\n",
    "\n",
    "grid_search_r.fit(Xtrain,ytrain)\n",
    "\n",
    "ypred = grid_search_r.predict(Xtest)\n",
    "RMSE = np.sqrt(mean_squared_error(ytest, ypred))\n",
    "print(f\"RMSE = {RMSE}\")\n",
    "error_percent = 100 * (10**RMSE - 1)\n",
    "print(f'Average error is {error_percent:.2f}%')"
   ]
  }
 ],
 "metadata": {
  "kernelspec": {
   "display_name": "ames",
   "language": "python",
   "name": "python3"
  },
  "language_info": {
   "codemirror_mode": {
    "name": "ipython",
    "version": 3
   },
   "file_extension": ".py",
   "mimetype": "text/x-python",
   "name": "python",
   "nbconvert_exporter": "python",
   "pygments_lexer": "ipython3",
   "version": "3.10.3"
  },
  "orig_nbformat": 4,
  "vscode": {
   "interpreter": {
    "hash": "dbd4e51fa3f3bf2a2317a230e3ac8d5fc66f1a44e44c3383f6bf669b9d199507"
   }
  }
 },
 "nbformat": 4,
 "nbformat_minor": 2
}
